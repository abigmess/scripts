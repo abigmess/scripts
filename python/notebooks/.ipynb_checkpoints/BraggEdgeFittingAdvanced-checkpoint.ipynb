{
 "cells": [
  {
   "cell_type": "markdown",
   "metadata": {},
   "source": [
    "# More advanced fitting formulation\n",
    "\n",
    "    t0 = 2 * d_spacing\n",
    "    term0 = a2 * (t - a6)\n",
    "    term1 = ((a5 - a2) / 2) * (t - a6)\n",
    "    term3 = erfc(-((t-t0)/(sigma * math.sqrt(2))))\n",
    "    term4 = np.exp(-((t-t0)/alpha) + ((sigma*sigma)/(2*alpha*alpha)))\n",
    "    term5 = erfc(-((t-t0)/(sigma * math.sqrt(2))) + sigma/alpha)\n",
    "\n",
    "    y = a1 + term0 + term1 * ( term3 - term4 * term5)\n",
    "\n",
    "    linear fit of the lines before and after the bragg edge:\n",
    "    a2=slope of the first line\n",
    "    a5=slope of the second line\n",
    "    a6 can be estimated as x-(2*I/(a5-a2), where x= rough position of the edge, I=edge intensity\n",
    "    a1 can be estimated by intercept of the first or second line from linear fit or intercept+a2*a6 (this is now not so crystal clear)\n"
   ]
  },
  {
   "cell_type": "code",
   "execution_count": 1,
   "metadata": {
    "ExecuteTime": {
     "end_time": "2018-10-09T10:41:33.222204Z",
     "start_time": "2018-10-09T10:41:28.820749Z"
    },
    "collapsed": false
   },
   "outputs": [
    {
     "name": "stderr",
     "output_type": "stream",
     "text": [
      "/home/carminati_c/anaconda2/lib/python2.7/site-packages/matplotlib/font_manager.py:273: UserWarning: Matplotlib is building the font cache using fc-list. This may take a moment.\n",
      "  warnings.warn('Matplotlib is building the font cache using fc-list. This may take a moment.')\n"
     ]
    }
   ],
   "source": [
    "import numpy as np\n",
    "from numpy import pi, r_, math, random\n",
    "import matplotlib.pyplot as plt\n",
    "from scipy import optimize\n",
    "from scipy.special import erfc\n",
    "from lmfit import Model\n",
    "from numpy import loadtxt\n",
    "%matplotlib inline\n",
    "# %matplotlib notebook"
   ]
  },
  {
   "cell_type": "code",
   "execution_count": 2,
   "metadata": {
    "ExecuteTime": {
     "end_time": "2018-10-09T10:41:33.246184Z",
     "start_time": "2018-10-09T10:41:33.242575Z"
    },
    "collapsed": true
   },
   "outputs": [],
   "source": [
    "def term0(t,a2,a6):\n",
    "    return  a2 * (t - a6)"
   ]
  },
  {
   "cell_type": "code",
   "execution_count": 3,
   "metadata": {
    "ExecuteTime": {
     "end_time": "2018-10-09T10:41:33.262760Z",
     "start_time": "2018-10-09T10:41:33.259939Z"
    },
    "collapsed": true
   },
   "outputs": [],
   "source": [
    "def term1(t,a2,a5,a6):\n",
    "    return ((a5 - a2) / 2) * (t - a6)"
   ]
  },
  {
   "cell_type": "code",
   "execution_count": 4,
   "metadata": {
    "ExecuteTime": {
     "end_time": "2018-10-09T10:41:33.279567Z",
     "start_time": "2018-10-09T10:41:33.277106Z"
    },
    "collapsed": true
   },
   "outputs": [],
   "source": [
    "def term3(t,t0,sigma):\n",
    "    return erfc(-((t-t0)/(sigma * math.sqrt(2))))"
   ]
  },
  {
   "cell_type": "code",
   "execution_count": 5,
   "metadata": {
    "ExecuteTime": {
     "end_time": "2018-10-09T10:41:33.303759Z",
     "start_time": "2018-10-09T10:41:33.294103Z"
    },
    "collapsed": true
   },
   "outputs": [],
   "source": [
    "def term4(t,t0,alpha,sigma):\n",
    "    return np.exp(-((t-t0)/alpha) + ((sigma*sigma)/(2*alpha*alpha)))"
   ]
  },
  {
   "cell_type": "code",
   "execution_count": 6,
   "metadata": {
    "ExecuteTime": {
     "end_time": "2018-10-09T10:41:33.322830Z",
     "start_time": "2018-10-09T10:41:33.319255Z"
    },
    "collapsed": true
   },
   "outputs": [],
   "source": [
    "def term5(t,t0,alpha,sigma):\n",
    "    return erfc(-((t-t0)/(sigma * math.sqrt(2))) + sigma/alpha)"
   ]
  },
  {
   "cell_type": "code",
   "execution_count": 7,
   "metadata": {
    "ExecuteTime": {
     "end_time": "2018-10-09T10:41:33.352689Z",
     "start_time": "2018-10-09T10:41:33.348005Z"
    },
    "collapsed": true
   },
   "outputs": [],
   "source": [
    "def AdvancedBraggEdgeFitting(t,t0,alpha,sigma,a1,a2,a5,a6):\n",
    "    return a1 + term0(t,a2,a6) + term1(t,a2,a5,a6) * (term3(t,t0,sigma) - term4(t,t0,alpha,sigma)* term5(t,t0,alpha,sigma))"
   ]
  },
  {
   "cell_type": "code",
   "execution_count": 8,
   "metadata": {
    "ExecuteTime": {
     "end_time": "2018-10-09T10:41:33.372473Z",
     "start_time": "2018-10-09T10:41:33.367885Z"
    },
    "collapsed": false
   },
   "outputs": [],
   "source": [
    "myspectrum = loadtxt('/home/carminati_c/Documents/vel_selector/alpha.txt') \n",
    "# plt.figure\n",
    "# plt.plot(myspectrum)\n",
    "\n"
   ]
  },
  {
   "cell_type": "code",
   "execution_count": 9,
   "metadata": {
    "ExecuteTime": {
     "end_time": "2018-10-09T10:41:33.651487Z",
     "start_time": "2018-10-09T10:41:33.411735Z"
    },
    "collapsed": false
   },
   "outputs": [
    {
     "data": {
      "text/plain": [
       "[<matplotlib.lines.Line2D at 0x7f0c25f402d0>]"
      ]
     },
     "execution_count": 9,
     "metadata": {},
     "output_type": "execute_result"
    },
    {
     "data": {
      "image/png": "[encoded data removed]",
      "text/plain": [
       "<matplotlib.figure.Figure at 0x7f0c6c1a61d0>"
      ]
     },
     "metadata": {},
     "output_type": "display_data"
    }
   ],
   "source": [
    "mybragg = -1*np.log10(myspectrum[115:208]/np.max(myspectrum[115:208]))\n",
    "# mybragg = myspectrum[115:208]\n",
    "mybragg = mybragg/np.max(mybragg)+ random.normal(0, 0.001, len(mybragg)) # iniziamo senza rumore aggiunto\n",
    "plt.figure\n",
    "plt.plot(mybragg)"
   ]
  },
  {
   "cell_type": "markdown",
   "metadata": {},
   "source": [
    "## first step: estimate linear function for the slope before and after the Bragg Edge "
   ]
  },
  {
   "cell_type": "code",
   "execution_count": 10,
   "metadata": {
    "ExecuteTime": {
     "end_time": "2018-10-09T10:41:38.426817Z",
     "start_time": "2018-10-09T10:41:38.423050Z"
    },
    "collapsed": false
   },
   "outputs": [],
   "source": [
    "t=np.linspace(0,np.size(mybragg)-1,np.size(mybragg))\n",
    "t_before= t[0:35]\n",
    "bragg_before=mybragg[0:35]\n",
    "t_after= t[45:-1]\n",
    "bragg_after=mybragg[45:-1]"
   ]
  },
  {
   "cell_type": "code",
   "execution_count": 11,
   "metadata": {
    "ExecuteTime": {
     "end_time": "2018-10-09T10:41:39.120021Z",
     "start_time": "2018-10-09T10:41:39.109958Z"
    },
    "collapsed": true
   },
   "outputs": [],
   "source": [
    "[slope_before, interception_before] = np.polyfit(t_before, bragg_before, 1)\n",
    "[slope_after, interception_after] = np.polyfit(t_after, bragg_after, 1)"
   ]
  },
  {
   "cell_type": "code",
   "execution_count": 12,
   "metadata": {
    "ExecuteTime": {
     "end_time": "2018-10-09T10:41:39.914341Z",
     "start_time": "2018-10-09T10:41:39.910552Z"
    },
    "collapsed": false
   },
   "outputs": [
    {
     "name": "stdout",
     "output_type": "stream",
     "text": [
      "(-0.010664800548240486, 0.37733927095463632)\n",
      "(-0.004967448654243329, 1.1752291154194439)\n"
     ]
    }
   ],
   "source": [
    "print(slope_before, interception_before)\n",
    "print(slope_after, interception_after)"
   ]
  },
  {
   "cell_type": "code",
   "execution_count": 13,
   "metadata": {
    "ExecuteTime": {
     "end_time": "2018-10-09T10:41:40.952418Z",
     "start_time": "2018-10-09T10:41:40.782646Z"
    },
    "collapsed": false
   },
   "outputs": [
    {
     "data": {
      "text/plain": [
       "[<matplotlib.lines.Line2D at 0x7f0c20635ad0>]"
      ]
     },
     "execution_count": 13,
     "metadata": {},
     "output_type": "execute_result"
    },
    {
     "data": {
      "image/png": "[encoded data removed]",
      "text/plain": [
       "<matplotlib.figure.Figure at 0x7f0c6c186f10>"
      ]
     },
     "metadata": {},
     "output_type": "display_data"
    }
   ],
   "source": [
    "plt.figure\n",
    "plt.plot(t_before,bragg_before,'.k')\n",
    "plt.plot(t_after,bragg_after,'.k')\n",
    "\n",
    "plt.plot(t,interception_before+slope_before*t)\n",
    "plt.plot(t,interception_after+slope_after*t)\n"
   ]
  },
  {
   "cell_type": "code",
   "execution_count": 134,
   "metadata": {
    "ExecuteTime": {
     "end_time": "2018-10-09T11:48:28.505344Z",
     "start_time": "2018-10-09T11:48:28.502371Z"
    },
    "collapsed": true
   },
   "outputs": [],
   "source": [
    "def AdvancedBraggEdgeFittingFirstStep(t,a1,a6):\n",
    "    return a1 + term0(t,a2_f,a6) + term1(t,a2_f,a5_f,a6) * (term3(t,t0_f,sigma_f) - term4(t,t0_f,alpha_f,sigma_f)* term5(t,t0_f,alpha_f,sigma_f))"
   ]
  },
  {
   "cell_type": "code",
   "execution_count": 137,
   "metadata": {
    "ExecuteTime": {
     "end_time": "2018-10-09T12:52:48.310207Z",
     "start_time": "2018-10-09T12:52:48.306541Z"
    },
    "collapsed": true
   },
   "outputs": [],
   "source": [
    "def AdvancedBraggEdgeFittingSecondStep(t,a2,a5):\n",
    "    return a1_f + term0(t,a2,a6_f) + term1(t,a2,a5,a6_f) * (term3(t,t0_f,sigma_f) - term4(t,t0_f,alpha_f,sigma_f)* term5(t,t0_f,alpha_f,sigma_f))"
   ]
  },
  {
   "cell_type": "code",
   "execution_count": 138,
   "metadata": {
    "ExecuteTime": {
     "end_time": "2018-10-09T12:52:49.164385Z",
     "start_time": "2018-10-09T12:52:49.161484Z"
    },
    "collapsed": true
   },
   "outputs": [],
   "source": [
    "def AdvancedBraggEdegFittingThirdStep(t,t0,sigma,alpha):\n",
    "    return a1_f + term0(t,a2_f,a6_f) + term1(t,a2_f,a5_f,a6_f) * (term3(t,t0,sigma) - term4(t,t0,alpha,sigma)* term5(t,t0,alpha,sigma))"
   ]
  },
  {
   "cell_type": "code",
   "execution_count": 139,
   "metadata": {
    "ExecuteTime": {
     "end_time": "2018-10-09T12:53:47.725909Z",
     "start_time": "2018-10-09T12:53:47.722061Z"
    },
    "collapsed": true
   },
   "outputs": [],
   "source": [
    "def AdvancedBraggEdegFittingFourthStep(t,a1,a2,a5,a6):\n",
    "    return a1 + term0(t,a2,a6) + term1(t,a2,a5,a6) * (term3(t,t0_f,sigma_f) - term4(t,t0_f,alpha_f,sigma_f)* term5(t,t0_f,alpha_f,sigma_f))"
   ]
  },
  {
   "cell_type": "code",
   "execution_count": 140,
   "metadata": {
    "ExecuteTime": {
     "end_time": "2018-10-09T12:54:41.398193Z",
     "start_time": "2018-10-09T12:54:41.394549Z"
    },
    "collapsed": true
   },
   "outputs": [],
   "source": [
    "def AdvancedBraggEdegFittingFifthStep(t,t0,sigma,alpha): #this is just the same as the third\n",
    "    return a1_f + term0(t,a2_f,a6_f) + term1(t,a2_f,a5_f,a6_f) * (term3(t,t0,sigma) - term4(t,t0,alpha,sigma)* term5(t,t0,alpha,sigma))"
   ]
  },
  {
   "cell_type": "code",
   "execution_count": 141,
   "metadata": {
    "ExecuteTime": {
     "end_time": "2018-10-09T12:55:34.435098Z",
     "start_time": "2018-10-09T12:55:34.432237Z"
    },
    "collapsed": true
   },
   "outputs": [],
   "source": [
    "def AdvancedBraggEdegFittingAll(t,t0,sigma,alpha,a1,a2,a5,a6):\n",
    "    return a1 + term0(t,a2,a6) + term1(t,a2,a5,a6) * (term3(t,t0,sigma) - term4(t,t0,alpha,sigma)* term5(t,t0,alpha,sigma))"
   ]
  },
  {
   "cell_type": "code",
   "execution_count": 146,
   "metadata": {
    "ExecuteTime": {
     "end_time": "2018-10-09T12:56:26.762669Z",
     "start_time": "2018-10-09T12:56:26.759051Z"
    },
    "collapsed": false
   },
   "outputs": [],
   "source": [
    "#first guess of paramters\n",
    "t0_f=30\n",
    "a2_f=slope_before\n",
    "a5_f=slope_after\n",
    "a6_f=t0_f-(2*mybragg[45]/(a5_f-a2_f)) # I assume edge intensity is equal to 1 as I am normalizing\n",
    "a1_f=interception_before+a2_f*a6_f\n",
    "sigma_f=-1.0\n",
    "alpha_f=-1.0\n"
   ]
  },
  {
   "cell_type": "code",
   "execution_count": 147,
   "metadata": {
    "ExecuteTime": {
     "end_time": "2018-10-09T12:56:27.393137Z",
     "start_time": "2018-10-09T12:56:27.390504Z"
    },
    "collapsed": true
   },
   "outputs": [],
   "source": [
    "gmodel1 = Model(AdvancedBraggEdgeFittingFirstStep)"
   ]
  },
  {
   "cell_type": "code",
   "execution_count": 150,
   "metadata": {
    "ExecuteTime": {
     "end_time": "2018-10-09T12:56:55.736160Z",
     "start_time": "2018-10-09T12:56:55.470616Z"
    },
    "collapsed": false
   },
   "outputs": [
    {
     "name": "stdout",
     "output_type": "stream",
     "text": [
      "[[Model]]\n",
      "    Model(AdvancedBraggEdgeFittingWithoutSlopes)\n",
      "[[Fit Statistics]]\n",
      "    # fitting method   = leastsq\n",
      "    # function evals   = 8\n",
      "    # data points      = 93\n",
      "    # variables        = 2\n",
      "    chi-square         = 1.55409\n",
      "    reduced chi-square = 0.01708\n",
      "    Akaike info crit   = -376.52902\n",
      "    Bayesian info crit = -371.46383\n",
      "[[Variables]]\n",
      "    a1:  -0.82142843 +/- 0.043517 (5.30%) (init=-0.8928269)\n",
      "    a6:   220.395608 +/- 4.894186 (2.22%) (init= 254.5639)\n",
      "[[Correlations]] (unreported correlations are <  0.100)\n",
      "    C(a1, a6)                    = -0.950\n",
      "\n"
     ]
    },
    {
     "data": {
      "image/png": "[encoded data removed]",
      "text/plain": [
       "<matplotlib.figure.Figure at 0x7f0c202e70d0>"
      ]
     },
     "metadata": {},
     "output_type": "display_data"
    }
   ],
   "source": [
    "result1 = gmodel1.fit(mybragg, t=t,a1=-0.25*a1_f, a6=-0.85*a6_f) \n",
    "\n",
    "# AdvancedBraggEdgeFitting(t,t0,alpha,sigma,a1,a2,a5,a6):\n",
    "a1_f=result1.best_values.get('a1')\n",
    "a6_f=result1.best_values.get('a6')\n",
    "\n",
    "print(result.fit_report())\n",
    "plt.figure\n",
    "plt.plot(t, mybragg, 'b-')\n",
    "plt.plot(t, result.init_fit, 'k--')\n",
    "plt.plot(t, result.best_fit, 'r-')\n",
    "plt.show()"
   ]
  },
  {
   "cell_type": "code",
   "execution_count": null,
   "metadata": {
    "collapsed": true
   },
   "outputs": [],
   "source": []
  }
 ],
 "metadata": {
  "kernelspec": {
   "display_name": "Python 2",
   "language": "python",
   "name": "python2"
  },
  "language_info": {
   "codemirror_mode": {
    "name": "ipython",
    "version": 2
   },
   "file_extension": ".py",
   "mimetype": "text/x-python",
   "name": "python",
   "nbconvert_exporter": "python",
   "pygments_lexer": "ipython2",
   "version": "2.7.12"
  },
  "varInspector": {
   "cols": {
    "lenName": 16,
    "lenType": 16,
    "lenVar": 40
   },
   "kernels_config": {
    "python": {
     "delete_cmd_postfix": "",
     "delete_cmd_prefix": "del ",
     "library": "var_list.py",
     "varRefreshCmd": "print(var_dic_list())"
    },
    "r": {
     "delete_cmd_postfix": ") ",
     "delete_cmd_prefix": "rm(",
     "library": "var_list.r",
     "varRefreshCmd": "cat(var_dic_list()) "
    }
   },
   "position": {
    "height": "1106px",
    "left": "2145.5px",
    "right": "-328px",
    "top": "704px",
    "width": "800px"
   },
   "types_to_exclude": [
    "module",
    "function",
    "builtin_function_or_method",
    "instance",
    "_Feature"
   ],
   "window_display": true
  }
 },
 "nbformat": 4,
 "nbformat_minor": 2
}
