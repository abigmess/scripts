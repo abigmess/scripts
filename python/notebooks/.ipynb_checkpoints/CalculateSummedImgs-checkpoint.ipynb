{
 "cells": [
  {
   "cell_type": "markdown",
   "metadata": {},
   "source": [
    "# In this notebook I create a summed img from an energy resolved scan, thus obtaining the white beam projection, and save the result in some defined folder"
   ]
  },
  {
   "cell_type": "code",
   "execution_count": 35,
   "metadata": {
    "ExecuteTime": {
     "end_time": "2018-10-11T13:52:53.307926Z",
     "start_time": "2018-10-11T13:52:53.302608Z"
    },
    "collapsed": false
   },
   "outputs": [],
   "source": [
    "import skimage\n",
    "import os, fnmatch\n",
    "import numpy as np\n",
    "import matplotlib.pyplot as plt\n",
    "%matplotlib inline\n",
    "# %matplotlib notebook\n",
    "import pylab\n",
    "import scipy\n",
    "from skimage import io\n",
    "from os import listdir\n",
    "from astropy.io import fits"
   ]
  },
  {
   "cell_type": "code",
   "execution_count": 36,
   "metadata": {
    "ExecuteTime": {
     "end_time": "2018-10-11T13:52:53.321404Z",
     "start_time": "2018-10-11T13:52:53.310549Z"
    },
    "collapsed": false
   },
   "outputs": [
    {
     "name": "stdout",
     "output_type": "stream",
     "text": [
      "/data/data2/RADEN_Feb2018/08_FurnaceARMCO/\n",
      "/data/data2/RADEN_Feb2018/08_FurnaceARMCO/Before4A/\n"
     ]
    }
   ],
   "source": [
    "# rootpath='/data/data2/RADEN_Feb2018/07_TomoA_ARMCO/' #this is the path to be eventually changed\n",
    "# rootpath='/data/data2/RADEN_Feb2018/10_Tomo_Final/' #this is the path to be eventually changed\n",
    "rootpath='/data/data2/RADEN_Feb2018/08_FurnaceARMCO/'\n",
    "# savepath=rootpath+'WhiteBeam/'\n",
    "savepath=rootpath+'Before4A/'\n",
    "print(rootpath)\n",
    "print(savepath)"
   ]
  },
  {
   "cell_type": "code",
   "execution_count": 37,
   "metadata": {
    "ExecuteTime": {
     "end_time": "2018-10-11T13:52:53.328372Z",
     "start_time": "2018-10-11T13:52:53.322957Z"
    },
    "collapsed": false
   },
   "outputs": [],
   "source": [
    "coll_dir = fnmatch.filter(listdir(rootpath),'TEST*')"
   ]
  },
  {
   "cell_type": "code",
   "execution_count": 38,
   "metadata": {
    "ExecuteTime": {
     "end_time": "2018-10-11T13:52:53.334735Z",
     "start_time": "2018-10-11T13:52:53.330031Z"
    },
    "collapsed": false
   },
   "outputs": [],
   "source": [
    "after_4A=[603,-1]"
   ]
  },
  {
   "cell_type": "code",
   "execution_count": null,
   "metadata": {
    "ExecuteTime": {
     "start_time": "2018-10-11T11:52:53.317Z"
    },
    "collapsed": false
   },
   "outputs": [],
   "source": [
    "if not os.path.exists(savepath):\n",
    "    os.makedirs(savepath)"
   ]
  },
  {
   "cell_type": "code",
   "execution_count": null,
   "metadata": {
    "ExecuteTime": {
     "start_time": "2018-10-11T11:52:53.320Z"
    },
    "collapsed": false
   },
   "outputs": [
    {
     "name": "stdout",
     "output_type": "stream",
     "text": [
      "0\n",
      "/data/data2/RADEN_Feb2018/08_FurnaceARMCO/Before4A/Summed_img_10_002.tif\n",
      "1\n",
      "/data/data2/RADEN_Feb2018/08_FurnaceARMCO/Before4A/Summed_img_10_013.tif\n",
      "2\n",
      "/data/data2/RADEN_Feb2018/08_FurnaceARMCO/Before4A/Summed_img_10_009.tif\n",
      "3\n",
      "/data/data2/RADEN_Feb2018/08_FurnaceARMCO/Before4A/Summed_img_10_086.tif\n",
      "4\n",
      "/data/data2/RADEN_Feb2018/08_FurnaceARMCO/Before4A/Summed_img_10_049.tif\n",
      "5\n",
      "/data/data2/RADEN_Feb2018/08_FurnaceARMCO/Before4A/Summed_img_10_089.tif\n",
      "6\n",
      "/data/data2/RADEN_Feb2018/08_FurnaceARMCO/Before4A/Summed_img_10_017.tif\n",
      "7\n",
      "/data/data2/RADEN_Feb2018/08_FurnaceARMCO/Before4A/Summed_img_10_008.tif\n",
      "8\n",
      "/data/data2/RADEN_Feb2018/08_FurnaceARMCO/Before4A/Summed_img_10_070.tif\n",
      "9\n",
      "/data/data2/RADEN_Feb2018/08_FurnaceARMCO/Before4A/Summed_img_10_033.tif\n",
      "10\n",
      "/data/data2/RADEN_Feb2018/08_FurnaceARMCO/Before4A/Summed_img_10_053.tif\n",
      "11\n",
      "/data/data2/RADEN_Feb2018/08_FurnaceARMCO/Before4A/Summed_img_10_080.tif\n",
      "12\n",
      "/data/data2/RADEN_Feb2018/08_FurnaceARMCO/Before4A/Summed_img_10_085.tif\n",
      "13\n",
      "/data/data2/RADEN_Feb2018/08_FurnaceARMCO/Before4A/Summed_img_10_087.tif\n",
      "14\n",
      "/data/data2/RADEN_Feb2018/08_FurnaceARMCO/Before4A/Summed_img_10_083.tif\n",
      "15\n",
      "/data/data2/RADEN_Feb2018/08_FurnaceARMCO/Before4A/Summed_img_10_012.tif\n",
      "16\n",
      "/data/data2/RADEN_Feb2018/08_FurnaceARMCO/Before4A/Summed_img_10_091.tif\n",
      "17\n",
      "/data/data2/RADEN_Feb2018/08_FurnaceARMCO/Before4A/Summed_img_10_059.tif\n",
      "18\n",
      "/data/data2/RADEN_Feb2018/08_FurnaceARMCO/Before4A/Summed_img_10_019.tif\n",
      "19\n",
      "/data/data2/RADEN_Feb2018/08_FurnaceARMCO/Before4A/Summed_img_10_065.tif\n",
      "20\n",
      "/data/data2/RADEN_Feb2018/08_FurnaceARMCO/Before4A/Summed_img_10_093.tif\n",
      "21\n",
      "/data/data2/RADEN_Feb2018/08_FurnaceARMCO/Before4A/Summed_img_10_014.tif\n",
      "22\n",
      "/data/data2/RADEN_Feb2018/08_FurnaceARMCO/Before4A/Summed_img_10_092.tif\n",
      "23\n",
      "/data/data2/RADEN_Feb2018/08_FurnaceARMCO/Before4A/Summed_img_10_074.tif\n",
      "24\n",
      "/data/data2/RADEN_Feb2018/08_FurnaceARMCO/Before4A/Summed_img_10_079.tif\n",
      "25\n",
      "/data/data2/RADEN_Feb2018/08_FurnaceARMCO/Before4A/Summed_img_10_005.tif\n",
      "26\n",
      "/data/data2/RADEN_Feb2018/08_FurnaceARMCO/Before4A/Summed_img_10_072.tif\n",
      "27\n",
      "/data/data2/RADEN_Feb2018/08_FurnaceARMCO/Before4A/Summed_img_10_094.tif\n",
      "28\n",
      "/data/data2/RADEN_Feb2018/08_FurnaceARMCO/Before4A/Summed_img_10_026.tif\n",
      "29\n",
      "/data/data2/RADEN_Feb2018/08_FurnaceARMCO/Before4A/Summed_img_10_069.tif\n",
      "30\n",
      "/data/data2/RADEN_Feb2018/08_FurnaceARMCO/Before4A/Summed_img_10_036.tif\n",
      "31\n",
      "/data/data2/RADEN_Feb2018/08_FurnaceARMCO/Before4A/Summed_img_10_028.tif\n",
      "32\n",
      "/data/data2/RADEN_Feb2018/08_FurnaceARMCO/Before4A/Summed_img_10_016.tif\n",
      "33\n",
      "/data/data2/RADEN_Feb2018/08_FurnaceARMCO/Before4A/Summed_img_10_054.tif\n",
      "34\n",
      "/data/data2/RADEN_Feb2018/08_FurnaceARMCO/Before4A/Summed_img_10_042.tif\n",
      "35\n",
      "/data/data2/RADEN_Feb2018/08_FurnaceARMCO/Before4A/Summed_img_10_030.tif\n",
      "36\n",
      "/data/data2/RADEN_Feb2018/08_FurnaceARMCO/Before4A/Summed_img_10_082.tif\n",
      "37\n",
      "/data/data2/RADEN_Feb2018/08_FurnaceARMCO/Before4A/Summed_img_10_078.tif\n",
      "38\n",
      "/data/data2/RADEN_Feb2018/08_FurnaceARMCO/Before4A/Summed_img_10_031.tif\n",
      "39\n",
      "/data/data2/RADEN_Feb2018/08_FurnaceARMCO/Before4A/Summed_img_10_058.tif\n",
      "40\n",
      "/data/data2/RADEN_Feb2018/08_FurnaceARMCO/Before4A/Summed_img_10_077.tif\n",
      "41\n",
      "/data/data2/RADEN_Feb2018/08_FurnaceARMCO/Before4A/Summed_img_10_084.tif\n",
      "42\n",
      "/data/data2/RADEN_Feb2018/08_FurnaceARMCO/Before4A/Summed_img_10_025.tif\n",
      "43\n",
      "/data/data2/RADEN_Feb2018/08_FurnaceARMCO/Before4A/Summed_img_10_034.tif\n",
      "44\n",
      "/data/data2/RADEN_Feb2018/08_FurnaceARMCO/Before4A/Summed_img_10_041.tif\n",
      "45\n",
      "/data/data2/RADEN_Feb2018/08_FurnaceARMCO/Before4A/Summed_img_10_076.tif\n",
      "46\n",
      "/data/data2/RADEN_Feb2018/08_FurnaceARMCO/Before4A/Summed_img_10_050.tif\n",
      "47\n",
      "/data/data2/RADEN_Feb2018/08_FurnaceARMCO/Before4A/Summed_img_10_043.tif\n",
      "48\n",
      "/data/data2/RADEN_Feb2018/08_FurnaceARMCO/Before4A/Summed_img_10_048.tif\n"
     ]
    }
   ],
   "source": [
    "for i in range(0, len(coll_dir)):\n",
    "    path= rootpath+coll_dir[i]+'/Corrected/'\n",
    "#     print(path)\n",
    "#     coll = listdir(path) # this just lists everything   \n",
    "    summed_img = np.zeros([512,512], dtype='>f4')\n",
    "    current_dir = fnmatch.filter(listdir(path),'*.fits')\n",
    "    \n",
    "    for x in range(0, after_4A[0]-1):\n",
    "        name=path+current_dir[x]\n",
    "        im = fits.open(name)\n",
    "        data=im[0].data\n",
    "        summed_img+= data\n",
    "\n",
    "    \n",
    "    io.imsave(savepath+'Summed_img_'+current_dir[0][4:10]+'.tif', summed_img)\n",
    "    print(i)\n",
    "    print(savepath+'Summed_img_'+current_dir[0][4:10]+'.tif')\n",
    "\n",
    "\n"
   ]
  },
  {
   "cell_type": "code",
   "execution_count": null,
   "metadata": {
    "collapsed": true
   },
   "outputs": [],
   "source": []
  }
 ],
 "metadata": {
  "kernelspec": {
   "display_name": "Python 2",
   "language": "python",
   "name": "python2"
  },
  "language_info": {
   "codemirror_mode": {
    "name": "ipython",
    "version": 2
   },
   "file_extension": ".py",
   "mimetype": "text/x-python",
   "name": "python",
   "nbconvert_exporter": "python",
   "pygments_lexer": "ipython2",
   "version": "2.7.12"
  },
  "varInspector": {
   "cols": {
    "lenName": 16,
    "lenType": 16,
    "lenVar": 40
   },
   "kernels_config": {
    "python": {
     "delete_cmd_postfix": "",
     "delete_cmd_prefix": "del ",
     "library": "var_list.py",
     "varRefreshCmd": "print(var_dic_list())"
    },
    "r": {
     "delete_cmd_postfix": ") ",
     "delete_cmd_prefix": "rm(",
     "library": "var_list.r",
     "varRefreshCmd": "cat(var_dic_list()) "
    }
   },
   "position": {
    "height": "490px",
    "left": "1350.5px",
    "right": "-578px",
    "top": "762px",
    "width": "800px"
   },
   "types_to_exclude": [
    "module",
    "function",
    "builtin_function_or_method",
    "instance",
    "_Feature"
   ],
   "window_display": true
  }
 },
 "nbformat": 4,
 "nbformat_minor": 2
}
