{
 "cells": [
  {
   "cell_type": "markdown",
   "metadata": {},
   "source": [
    "# In this notebook I write the routine for TOF spectrum calibration\n",
    "\n",
    "        What it should be done:\n",
    "        - read the theoretical spectrum\n",
    "        - read the calibration sample\n",
    "        - be able to convert from TOF to lambda and back\n",
    "        - calculate T0 and deltaL, which are the results of the calibration \n",
    "        \n",
    "        time to lambda convertion:\n",
    "            lambda = h/mL (t-t0)\n",
    "            where:lambda = wavelength [A]\n",
    "                    h = Planck's constant: 6.62607004 × 10-34 m^2 kg / s\n",
    "                    m = Neutron mass [kg]: 1.674 927 471 x 10-27 kg \n",
    "                    L = total flight path [m]\n",
    "                    t = time of flight [s]\n",
    "                    \n",
    "        "
   ]
  },
  {
   "cell_type": "code",
   "execution_count": null,
   "metadata": {
    "collapsed": true
   },
   "outputs": [],
   "source": []
  }
 ],
 "metadata": {
  "kernelspec": {
   "display_name": "Python 2",
   "language": "python",
   "name": "python2"
  },
  "language_info": {
   "codemirror_mode": {
    "name": "ipython",
    "version": 2
   },
   "file_extension": ".py",
   "mimetype": "text/x-python",
   "name": "python",
   "nbconvert_exporter": "python",
   "pygments_lexer": "ipython2",
   "version": "2.7.12"
  },
  "varInspector": {
   "cols": {
    "lenName": 16,
    "lenType": 16,
    "lenVar": 40
   },
   "kernels_config": {
    "python": {
     "delete_cmd_postfix": "",
     "delete_cmd_prefix": "del ",
     "library": "var_list.py",
     "varRefreshCmd": "print(var_dic_list())"
    },
    "r": {
     "delete_cmd_postfix": ") ",
     "delete_cmd_prefix": "rm(",
     "library": "var_list.r",
     "varRefreshCmd": "cat(var_dic_list()) "
    }
   },
   "types_to_exclude": [
    "module",
    "function",
    "builtin_function_or_method",
    "instance",
    "_Feature"
   ],
   "window_display": false
  }
 },
 "nbformat": 4,
 "nbformat_minor": 2
}
