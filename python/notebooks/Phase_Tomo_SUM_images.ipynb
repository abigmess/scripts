{
 "cells": [
  {
   "cell_type": "markdown",
   "metadata": {},
   "source": [
    "# In this notebook I read and sum images to be used for phase tomography. "
   ]
  },
  {
   "cell_type": "markdown",
   "metadata": {},
   "source": [
    "## The noteboook was started to process data of the Fe sample imaged at RADEN"
   ]
  },
  {
   "cell_type": "code",
   "execution_count": 1,
   "metadata": {
    "ExecuteTime": {
     "end_time": "2018-07-13T18:14:54.734278Z",
     "start_time": "2018-07-13T18:14:51.011525Z"
    },
    "collapsed": false
   },
   "outputs": [
    {
     "name": "stderr",
     "output_type": "stream",
     "text": [
      "/home/carminati_c/anaconda2/lib/python2.7/site-packages/matplotlib/font_manager.py:273: UserWarning: Matplotlib is building the font cache using fc-list. This may take a moment.\n",
      "  warnings.warn('Matplotlib is building the font cache using fc-list. This may take a moment.')\n"
     ]
    }
   ],
   "source": [
    "import skimage\n",
    "import os, fnmatch\n",
    "import numpy as np\n",
    "import matplotlib.pyplot as plt\n",
    "%matplotlib inline\n",
    "# %matplotlib notebook\n",
    "import pylab\n",
    "import scipy\n",
    "from skimage import io\n",
    "from os import listdir\n",
    "from astropy.io import fits"
   ]
  },
  {
   "cell_type": "code",
   "execution_count": 2,
   "metadata": {
    "ExecuteTime": {
     "end_time": "2018-07-13T18:14:55.612127Z",
     "start_time": "2018-07-13T18:14:55.609517Z"
    },
    "collapsed": true
   },
   "outputs": [],
   "source": [
    "## here you defined the ranges of images that will be used for the summing, with my calib:\n",
    "# alpha=[497,524]\n",
    "# gamma=[532,550]\n",
    "# ref=[575,619]"
   ]
  },
  {
   "cell_type": "code",
   "execution_count": 17,
   "metadata": {
    "ExecuteTime": {
     "end_time": "2018-07-16T11:33:37.848469Z",
     "start_time": "2018-07-16T11:33:37.845938Z"
    },
    "collapsed": true
   },
   "outputs": [],
   "source": [
    "#without calib:\n",
    "alpha=[521,550]\n",
    "gamma=[561,579]\n",
    "ref=[603,649]"
   ]
  },
  {
   "cell_type": "code",
   "execution_count": 18,
   "metadata": {
    "ExecuteTime": {
     "end_time": "2018-07-16T11:34:06.584205Z",
     "start_time": "2018-07-16T11:34:06.581125Z"
    },
    "collapsed": true
   },
   "outputs": [],
   "source": [
    "save_path = '/data/data2/07_TomoA_ARMCO/Summed_Imgs_noCalib/'"
   ]
  },
  {
   "cell_type": "code",
   "execution_count": 19,
   "metadata": {
    "ExecuteTime": {
     "end_time": "2018-07-16T11:34:08.159006Z",
     "start_time": "2018-07-16T11:34:08.156334Z"
    },
    "collapsed": false
   },
   "outputs": [],
   "source": [
    "coll_dir = fnmatch.filter(listdir('/data/data2/07_TomoA_ARMCO/'),'TEST*')"
   ]
  },
  {
   "cell_type": "code",
   "execution_count": 20,
   "metadata": {
    "ExecuteTime": {
     "end_time": "2018-07-16T11:40:32.912092Z",
     "start_time": "2018-07-16T11:34:10.122763Z"
    },
    "collapsed": false
   },
   "outputs": [
    {
     "name": "stdout",
     "output_type": "stream",
     "text": [
      "/data/data2/07_TomoA_ARMCO/TEST8_007/Corrected/\n",
      "/data/data2/07_TomoA_ARMCO/TEST8_109/Corrected/\n",
      "/data/data2/07_TomoA_ARMCO/TEST8_038/Corrected/\n",
      "/data/data2/07_TomoA_ARMCO/TEST8_012/Corrected/\n",
      "/data/data2/07_TomoA_ARMCO/TEST8_046/Corrected/\n",
      "/data/data2/07_TomoA_ARMCO/TEST8_107/Corrected/\n",
      "/data/data2/07_TomoA_ARMCO/TEST8_093/Corrected/\n",
      "/data/data2/07_TomoA_ARMCO/TEST8_110/Corrected/\n",
      "/data/data2/07_TomoA_ARMCO/TEST8_074/Corrected/\n",
      "/data/data2/07_TomoA_ARMCO/TEST8_033/Corrected/\n",
      "/data/data2/07_TomoA_ARMCO/TEST8_070/Corrected/\n",
      "/data/data2/07_TomoA_ARMCO/TEST8_094/Corrected/\n",
      "/data/data2/07_TomoA_ARMCO/TEST8_091/Corrected/\n",
      "/data/data2/07_TomoA_ARMCO/TEST8_104/Corrected/\n",
      "/data/data2/07_TomoA_ARMCO/TEST9_002/Corrected/\n",
      "/data/data2/07_TomoA_ARMCO/TEST8_076/Corrected/\n",
      "/data/data2/07_TomoA_ARMCO/TEST8_119/Corrected/\n",
      "/data/data2/07_TomoA_ARMCO/TEST8_071/Corrected/\n",
      "/data/data2/07_TomoA_ARMCO/TEST8_084/Corrected/\n",
      "/data/data2/07_TomoA_ARMCO/TEST8_064/Corrected/\n",
      "/data/data2/07_TomoA_ARMCO/TEST8_092/Corrected/\n",
      "/data/data2/07_TomoA_ARMCO/TEST8_051/Corrected/\n",
      "/data/data2/07_TomoA_ARMCO/TEST8_014/Corrected/\n",
      "/data/data2/07_TomoA_ARMCO/TEST8_052/Corrected/\n",
      "/data/data2/07_TomoA_ARMCO/TEST8_116/Corrected/\n",
      "/data/data2/07_TomoA_ARMCO/TEST9_000/Corrected/\n",
      "/data/data2/07_TomoA_ARMCO/TEST8_034/Corrected/\n",
      "/data/data2/07_TomoA_ARMCO/TEST8_002/Corrected/\n",
      "/data/data2/07_TomoA_ARMCO/TEST8_111/Corrected/\n",
      "/data/data2/07_TomoA_ARMCO/TEST8_029/Corrected/\n",
      "/data/data2/07_TomoA_ARMCO/TEST8_120/Corrected/\n",
      "/data/data2/07_TomoA_ARMCO/TEST8_024/Corrected/\n",
      "/data/data2/07_TomoA_ARMCO/TEST8_099/Corrected/\n",
      "/data/data2/07_TomoA_ARMCO/TEST8_047/Corrected/\n",
      "/data/data2/07_TomoA_ARMCO/TEST8_103/Corrected/\n",
      "/data/data2/07_TomoA_ARMCO/TEST8_045/Corrected/\n",
      "/data/data2/07_TomoA_ARMCO/TEST8_086/Corrected/\n",
      "/data/data2/07_TomoA_ARMCO/TEST8_011/Corrected/\n",
      "/data/data2/07_TomoA_ARMCO/TEST8_005/Corrected/\n",
      "/data/data2/07_TomoA_ARMCO/TEST8_003/Corrected/\n",
      "/data/data2/07_TomoA_ARMCO/TEST8_022/Corrected/\n",
      "/data/data2/07_TomoA_ARMCO/TEST8_023/Corrected/\n",
      "/data/data2/07_TomoA_ARMCO/TEST8_097/Corrected/\n",
      "/data/data2/07_TomoA_ARMCO/TEST8_039/Corrected/\n",
      "/data/data2/07_TomoA_ARMCO/TEST8_067/Corrected/\n",
      "/data/data2/07_TomoA_ARMCO/TEST8_020/Corrected/\n",
      "/data/data2/07_TomoA_ARMCO/TEST8_035/Corrected/\n",
      "/data/data2/07_TomoA_ARMCO/TEST8_060/Corrected/\n",
      "/data/data2/07_TomoA_ARMCO/TEST8_044/Corrected/\n",
      "/data/data2/07_TomoA_ARMCO/TEST8_001/Corrected/\n",
      "/data/data2/07_TomoA_ARMCO/TEST8_088/Corrected/\n",
      "/data/data2/07_TomoA_ARMCO/TEST8_106/Corrected/\n",
      "/data/data2/07_TomoA_ARMCO/TEST8_081/Corrected/\n",
      "/data/data2/07_TomoA_ARMCO/TEST8_059/Corrected/\n",
      "/data/data2/07_TomoA_ARMCO/TEST8_114/Corrected/\n",
      "/data/data2/07_TomoA_ARMCO/TEST8_037/Corrected/\n",
      "/data/data2/07_TomoA_ARMCO/TEST8_112/Corrected/\n",
      "/data/data2/07_TomoA_ARMCO/TEST8_025/Corrected/\n",
      "/data/data2/07_TomoA_ARMCO/TEST8_069/Corrected/\n",
      "/data/data2/07_TomoA_ARMCO/TEST8_021/Corrected/\n",
      "/data/data2/07_TomoA_ARMCO/TEST8_016/Corrected/\n",
      "/data/data2/07_TomoA_ARMCO/TEST8_096/Corrected/\n",
      "/data/data2/07_TomoA_ARMCO/TEST8_032/Corrected/\n",
      "/data/data2/07_TomoA_ARMCO/TEST8_050/Corrected/\n",
      "/data/data2/07_TomoA_ARMCO/TEST8_030/Corrected/\n",
      "/data/data2/07_TomoA_ARMCO/TEST8_118/Corrected/\n",
      "/data/data2/07_TomoA_ARMCO/TEST8_006/Corrected/\n",
      "/data/data2/07_TomoA_ARMCO/TEST8_057/Corrected/\n",
      "/data/data2/07_TomoA_ARMCO/TEST8_090/Corrected/\n",
      "/data/data2/07_TomoA_ARMCO/TEST8_055/Corrected/\n",
      "/data/data2/07_TomoA_ARMCO/TEST8_065/Corrected/\n",
      "/data/data2/07_TomoA_ARMCO/TEST8_054/Corrected/\n",
      "/data/data2/07_TomoA_ARMCO/TEST8_053/Corrected/\n",
      "/data/data2/07_TomoA_ARMCO/TEST8_078/Corrected/\n",
      "/data/data2/07_TomoA_ARMCO/TEST8_080/Corrected/\n",
      "/data/data2/07_TomoA_ARMCO/TEST8_058/Corrected/\n",
      "/data/data2/07_TomoA_ARMCO/TEST8_105/Corrected/\n",
      "/data/data2/07_TomoA_ARMCO/TEST8_043/Corrected/\n",
      "/data/data2/07_TomoA_ARMCO/TEST8_049/Corrected/\n",
      "/data/data2/07_TomoA_ARMCO/TEST8_098/Corrected/\n",
      "/data/data2/07_TomoA_ARMCO/TEST8_066/Corrected/\n",
      "/data/data2/07_TomoA_ARMCO/TEST8_061/Corrected/\n",
      "/data/data2/07_TomoA_ARMCO/TEST8_042/Corrected/\n",
      "/data/data2/07_TomoA_ARMCO/TEST8_009/Corrected/\n",
      "/data/data2/07_TomoA_ARMCO/TEST8_027/Corrected/\n",
      "/data/data2/07_TomoA_ARMCO/TEST8_113/Corrected/\n",
      "/data/data2/07_TomoA_ARMCO/TEST8_072/Corrected/\n",
      "/data/data2/07_TomoA_ARMCO/TEST8_028/Corrected/\n",
      "/data/data2/07_TomoA_ARMCO/TEST8_089/Corrected/\n",
      "/data/data2/07_TomoA_ARMCO/TEST8_010/Corrected/\n",
      "/data/data2/07_TomoA_ARMCO/TEST8_026/Corrected/\n",
      "/data/data2/07_TomoA_ARMCO/TEST8_117/Corrected/\n",
      "/data/data2/07_TomoA_ARMCO/TEST8_095/Corrected/\n",
      "/data/data2/07_TomoA_ARMCO/TEST8_015/Corrected/\n",
      "/data/data2/07_TomoA_ARMCO/TEST8_100/Corrected/\n",
      "/data/data2/07_TomoA_ARMCO/TEST8_108/Corrected/\n",
      "/data/data2/07_TomoA_ARMCO/TEST8_018/Corrected/\n",
      "/data/data2/07_TomoA_ARMCO/TEST8_083/Corrected/\n",
      "/data/data2/07_TomoA_ARMCO/TEST8_068/Corrected/\n",
      "/data/data2/07_TomoA_ARMCO/TEST8_102/Corrected/\n",
      "/data/data2/07_TomoA_ARMCO/TEST8_087/Corrected/\n",
      "/data/data2/07_TomoA_ARMCO/TEST8_040/Corrected/\n",
      "/data/data2/07_TomoA_ARMCO/TEST8_115/Corrected/\n",
      "/data/data2/07_TomoA_ARMCO/TEST8_008/Corrected/\n",
      "/data/data2/07_TomoA_ARMCO/TEST8_013/Corrected/\n",
      "/data/data2/07_TomoA_ARMCO/TEST8_062/Corrected/\n",
      "/data/data2/07_TomoA_ARMCO/TEST8_048/Corrected/\n",
      "/data/data2/07_TomoA_ARMCO/TEST8_031/Corrected/\n",
      "/data/data2/07_TomoA_ARMCO/TEST8_085/Corrected/\n",
      "/data/data2/07_TomoA_ARMCO/TEST8_036/Corrected/\n",
      "/data/data2/07_TomoA_ARMCO/TEST9_001/Corrected/\n",
      "/data/data2/07_TomoA_ARMCO/TEST8_075/Corrected/\n",
      "/data/data2/07_TomoA_ARMCO/TEST8_073/Corrected/\n",
      "/data/data2/07_TomoA_ARMCO/TEST8_056/Corrected/\n",
      "/data/data2/07_TomoA_ARMCO/TEST8_017/Corrected/\n",
      "/data/data2/07_TomoA_ARMCO/TEST8_004/Corrected/\n",
      "/data/data2/07_TomoA_ARMCO/TEST8_079/Corrected/\n",
      "/data/data2/07_TomoA_ARMCO/TEST8_063/Corrected/\n",
      "/data/data2/07_TomoA_ARMCO/TEST8_121/Corrected/\n",
      "/data/data2/07_TomoA_ARMCO/TEST8_101/Corrected/\n",
      "/data/data2/07_TomoA_ARMCO/TEST8_041/Corrected/\n",
      "/data/data2/07_TomoA_ARMCO/TEST8_077/Corrected/\n",
      "/data/data2/07_TomoA_ARMCO/TEST8_019/Corrected/\n",
      "/data/data2/07_TomoA_ARMCO/TEST8_082/Corrected/\n"
     ]
    }
   ],
   "source": [
    "for i in range(0, len(coll_dir)-1):\n",
    "    path= '/data/data2/07_TomoA_ARMCO/'+coll_dir[i]+'/Corrected/'\n",
    "    print(path)\n",
    "    coll = listdir(path)\n",
    "    \n",
    "    summed_gamma = np.zeros([512,512], dtype='>f4')\n",
    "    summed_alpha = np.zeros([512,512], dtype='>f4')\n",
    "    summed_ref = np.zeros([512,512], dtype='>f4') ## with data.dtype I checked what was the type of the read images\n",
    "    \n",
    "    for x in range(alpha[0], alpha[1]+1):\n",
    "        name=path+coll[x]\n",
    "        i = fits.open(name)\n",
    "        data = i[0].data\n",
    "        summed_alpha += data\n",
    "    \n",
    "    io.imsave(save_path+'summed_alpha'+coll[0][4:9]+'.tiff', summed_alpha)\n",
    "    \n",
    "    for x in range(gamma[0], gamma[1]+1):\n",
    "        name=path+coll[x]\n",
    "        i = fits.open(name)\n",
    "        data = i[0].data\n",
    "        summed_gamma += data\n",
    "    \n",
    "    io.imsave(save_path+'summed_gamma'+coll[0][4:9]+'.tiff', summed_gamma)\n",
    "    \n",
    "    for x in range(ref[0], ref[1]+1):\n",
    "        name=path+coll[x]\n",
    "        i = fits.open(name)\n",
    "        data = i[0].data\n",
    "        summed_ref += data\n",
    "    \n",
    "    io.imsave(save_path+'summed_ref'+coll[0][4:9]+'.tiff', summed_ref)\n",
    "   \n"
   ]
  }
 ],
 "metadata": {
  "kernelspec": {
   "display_name": "Python 2",
   "language": "python",
   "name": "python2"
  },
  "language_info": {
   "codemirror_mode": {
    "name": "ipython",
    "version": 2
   },
   "file_extension": ".py",
   "mimetype": "text/x-python",
   "name": "python",
   "nbconvert_exporter": "python",
   "pygments_lexer": "ipython2",
   "version": "2.7.12"
  },
  "varInspector": {
   "cols": {
    "lenName": 16,
    "lenType": 16,
    "lenVar": 40
   },
   "kernels_config": {
    "python": {
     "delete_cmd_postfix": "",
     "delete_cmd_prefix": "del ",
     "library": "var_list.py",
     "varRefreshCmd": "print(var_dic_list())"
    },
    "r": {
     "delete_cmd_postfix": ") ",
     "delete_cmd_prefix": "rm(",
     "library": "var_list.r",
     "varRefreshCmd": "cat(var_dic_list()) "
    }
   },
   "position": {
    "height": "843px",
    "left": "2192px",
    "right": "127.167px",
    "top": "202px",
    "width": "800px"
   },
   "types_to_exclude": [
    "module",
    "function",
    "builtin_function_or_method",
    "instance",
    "_Feature"
   ],
   "window_display": true
  }
 },
 "nbformat": 4,
 "nbformat_minor": 2
}
