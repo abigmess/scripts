{
 "cells": [
  {
   "cell_type": "markdown",
   "metadata": {},
   "source": [
    "# More advanced fitting formulation\n",
    "\n",
    "    t0 = 2 * d_spacing\n",
    "    term0 = a2 * (t - a6)\n",
    "    term1 = ((a5 - a2) / 2) * (t - a6)\n",
    "    term3 = erfc(-((t-t0)/(sigma * math.sqrt(2))))\n",
    "    term4 = np.exp(-((t-t0)/alpha) + ((sigma*sigma)/(2*alpha*alpha)))\n",
    "    term5 = erfc(-((t-t0)/(sigma * math.sqrt(2))) + sigma/alpha)\n",
    "\n",
    "    y = a1 + term0 + term1 * ( term3 - term4 * term5)\n",
    "\n",
    "    linear fit of the lines before and after the bragg edge:\n",
    "    a2=slope of the first line\n",
    "    a5=slope of the second line\n",
    "    a6 can be estimated as x-(2*I/(a5-a2), where x= rough position of the edge, I=edge intensity\n",
    "    a1 can be estimated by intercept of the first or second line from linear fit or intercept+a2*a6 (this is now not so crystal clear)\n"
   ]
  },
  {
   "cell_type": "code",
   "execution_count": 30,
   "metadata": {
    "ExecuteTime": {
     "end_time": "2018-10-10T13:05:44.956358Z",
     "start_time": "2018-10-10T13:05:44.951845Z"
    },
    "collapsed": false
   },
   "outputs": [],
   "source": [
    "import numpy as np\n",
    "from numpy import pi, r_, math, random\n",
    "import matplotlib.pyplot as plt\n",
    "from scipy import optimize\n",
    "from scipy.special import erfc\n",
    "from lmfit import Model\n",
    "from numpy import loadtxt\n",
    "%matplotlib inline\n",
    "# %matplotlib notebook"
   ]
  },
  {
   "cell_type": "code",
   "execution_count": 2,
   "metadata": {
    "ExecuteTime": {
     "end_time": "2018-10-09T15:31:07.075548Z",
     "start_time": "2018-10-09T15:31:07.073565Z"
    },
    "collapsed": true
   },
   "outputs": [],
   "source": [
    "def term0(t,a2,a6):\n",
    "    return  a2 * (t - a6)"
   ]
  },
  {
   "cell_type": "code",
   "execution_count": 3,
   "metadata": {
    "ExecuteTime": {
     "end_time": "2018-10-09T15:31:07.080608Z",
     "start_time": "2018-10-09T15:31:07.076492Z"
    },
    "collapsed": true
   },
   "outputs": [],
   "source": [
    "def term1(t,a2,a5,a6):\n",
    "    return ((a5 - a2) / 2) * (t - a6)"
   ]
  },
  {
   "cell_type": "code",
   "execution_count": 4,
   "metadata": {
    "ExecuteTime": {
     "end_time": "2018-10-09T15:31:07.090964Z",
     "start_time": "2018-10-09T15:31:07.081629Z"
    },
    "collapsed": true
   },
   "outputs": [],
   "source": [
    "def term3(t,t0,sigma):\n",
    "    return erfc(-((t-t0)/(sigma * math.sqrt(2))))"
   ]
  },
  {
   "cell_type": "code",
   "execution_count": 5,
   "metadata": {
    "ExecuteTime": {
     "end_time": "2018-10-09T15:31:07.099443Z",
     "start_time": "2018-10-09T15:31:07.091998Z"
    },
    "collapsed": true
   },
   "outputs": [],
   "source": [
    "def term4(t,t0,alpha,sigma):\n",
    "    return np.exp(-((t-t0)/alpha) + ((sigma*sigma)/(2*alpha*alpha)))"
   ]
  },
  {
   "cell_type": "code",
   "execution_count": 6,
   "metadata": {
    "ExecuteTime": {
     "end_time": "2018-10-09T15:31:07.104356Z",
     "start_time": "2018-10-09T15:31:07.100511Z"
    },
    "collapsed": true
   },
   "outputs": [],
   "source": [
    "def term5(t,t0,alpha,sigma):\n",
    "    return erfc(-((t-t0)/(sigma * math.sqrt(2))) + sigma/alpha)"
   ]
  },
  {
   "cell_type": "code",
   "execution_count": 7,
   "metadata": {
    "ExecuteTime": {
     "end_time": "2018-10-09T15:31:07.115185Z",
     "start_time": "2018-10-09T15:31:07.105519Z"
    },
    "collapsed": true
   },
   "outputs": [],
   "source": [
    "def AdvancedBraggEdgeFitting(t,t0,alpha,sigma,a1,a2,a5,a6):\n",
    "    return a1 + term0(t,a2,a6) + term1(t,a2,a5,a6) * (term3(t,t0,sigma) - term4(t,t0,alpha,sigma)* term5(t,t0,alpha,sigma))"
   ]
  },
  {
   "cell_type": "code",
   "execution_count": 8,
   "metadata": {
    "ExecuteTime": {
     "end_time": "2018-10-09T15:31:07.125137Z",
     "start_time": "2018-10-09T15:31:07.116811Z"
    },
    "collapsed": false
   },
   "outputs": [],
   "source": [
    "myspectrum = loadtxt('/home/carminati_c/Documents/vel_selector/alpha.txt') \n",
    "# plt.figure\n",
    "# plt.plot(myspectrum)\n",
    "\n"
   ]
  },
  {
   "cell_type": "code",
   "execution_count": 9,
   "metadata": {
    "ExecuteTime": {
     "end_time": "2018-10-09T15:31:07.271099Z",
     "start_time": "2018-10-09T15:31:07.126291Z"
    },
    "collapsed": false
   },
   "outputs": [
    {
     "data": {
      "text/plain": [
       "[<matplotlib.lines.Line2D at 0x7f1c7bcfcc10>]"
      ]
     },
     "execution_count": 9,
     "metadata": {},
     "output_type": "execute_result"
    },
    {
     "data": {
      "image/png": "[encoded data removed]",
      "text/plain": [
       "<matplotlib.figure.Figure at 0x7f1c7bd51150>"
      ]
     },
     "metadata": {},
     "output_type": "display_data"
    }
   ],
   "source": [
    "mybragg = -1*np.log10(myspectrum[115:208]/np.max(myspectrum[115:208]))\n",
    "# mybragg = myspectrum[115:208] # without normalization and without the -log\n",
    "# mybragg = myspectrum[115:208]\n",
    "# mybragg = mybragg/np.max(mybragg)+ random.normal(0, 0.001, len(mybragg)) # iniziamo senza rumore aggiunto\n",
    "mybragg = mybragg+ random.normal(0, 0.001, len(mybragg)) # proviamo senza normalizzazione  \n",
    "\n",
    "plt.figure\n",
    "plt.plot(mybragg)"
   ]
  },
  {
   "cell_type": "markdown",
   "metadata": {},
   "source": [
    "## first step: estimate linear function for the slope before and after the Bragg Edge "
   ]
  },
  {
   "cell_type": "code",
   "execution_count": 10,
   "metadata": {
    "ExecuteTime": {
     "end_time": "2018-10-09T15:31:07.276872Z",
     "start_time": "2018-10-09T15:31:07.273075Z"
    },
    "collapsed": false
   },
   "outputs": [],
   "source": [
    "t=np.linspace(0,np.size(mybragg)-1,np.size(mybragg))\n",
    "t_before= t[0:35]\n",
    "bragg_before=mybragg[0:35]\n",
    "t_after= t[45:-1]\n",
    "bragg_after=mybragg[45:-1]"
   ]
  },
  {
   "cell_type": "code",
   "execution_count": 11,
   "metadata": {
    "ExecuteTime": {
     "end_time": "2018-10-09T15:31:07.287478Z",
     "start_time": "2018-10-09T15:31:07.278050Z"
    },
    "collapsed": true
   },
   "outputs": [],
   "source": [
    "[slope_before, interception_before] = np.polyfit(t_before, bragg_before, 1)\n",
    "[slope_after, interception_after] = np.polyfit(t_after, bragg_after, 1)"
   ]
  },
  {
   "cell_type": "code",
   "execution_count": 12,
   "metadata": {
    "ExecuteTime": {
     "end_time": "2018-10-09T15:31:07.295220Z",
     "start_time": "2018-10-09T15:31:07.288764Z"
    },
    "collapsed": false
   },
   "outputs": [
    {
     "name": "stdout",
     "output_type": "stream",
     "text": [
      "(-0.0053961431543357941, 0.19053202632500013)\n",
      "(-0.0025000791643378993, 0.59205313273823312)\n"
     ]
    }
   ],
   "source": [
    "print(slope_before, interception_before)\n",
    "print(slope_after, interception_after)"
   ]
  },
  {
   "cell_type": "code",
   "execution_count": 13,
   "metadata": {
    "ExecuteTime": {
     "end_time": "2018-10-09T15:31:07.455735Z",
     "start_time": "2018-10-09T15:31:07.296335Z"
    },
    "collapsed": false
   },
   "outputs": [
    {
     "data": {
      "text/plain": [
       "[<matplotlib.lines.Line2D at 0x7f1c763895d0>]"
      ]
     },
     "execution_count": 13,
     "metadata": {},
     "output_type": "execute_result"
    },
    {
     "data": {
      "image/png": "[encoded data removed]",
      "text/plain": [
       "<matplotlib.figure.Figure at 0x7f1cc16b0e50>"
      ]
     },
     "metadata": {},
     "output_type": "display_data"
    }
   ],
   "source": [
    "plt.figure\n",
    "plt.plot(t_before,bragg_before,'.k')\n",
    "plt.plot(t_after,bragg_after,'.k')\n",
    "\n",
    "plt.plot(t,interception_before+slope_before*t)\n",
    "plt.plot(t,interception_after+slope_after*t)\n"
   ]
  },
  {
   "cell_type": "code",
   "execution_count": 14,
   "metadata": {
    "ExecuteTime": {
     "end_time": "2018-10-09T15:31:07.459701Z",
     "start_time": "2018-10-09T15:31:07.456886Z"
    },
    "collapsed": true
   },
   "outputs": [],
   "source": [
    "def AdvancedBraggEdgeFittingFirstStep(t,a1,a6):\n",
    "    return a1 + term0(t,a2_f,a6) + term1(t,a2_f,a5_f,a6) * (term3(t,t0_f,sigma_f) - term4(t,t0_f,alpha_f,sigma_f)* term5(t,t0_f,alpha_f,sigma_f))"
   ]
  },
  {
   "cell_type": "code",
   "execution_count": 15,
   "metadata": {
    "ExecuteTime": {
     "end_time": "2018-10-09T15:31:07.465363Z",
     "start_time": "2018-10-09T15:31:07.462450Z"
    },
    "collapsed": true
   },
   "outputs": [],
   "source": [
    "def AdvancedBraggEdgeFittingSecondStep(t,a2,a5):\n",
    "    return a1_f + term0(t,a2,a6_f) + term1(t,a2,a5,a6_f) * (term3(t,t0_f,sigma_f) - term4(t,t0_f,alpha_f,sigma_f)* term5(t,t0_f,alpha_f,sigma_f))"
   ]
  },
  {
   "cell_type": "code",
   "execution_count": 16,
   "metadata": {
    "ExecuteTime": {
     "end_time": "2018-10-09T15:31:07.474271Z",
     "start_time": "2018-10-09T15:31:07.466770Z"
    },
    "collapsed": true
   },
   "outputs": [],
   "source": [
    "def AdvancedBraggEdegFittingThirdStep(t,t0,sigma,alpha):\n",
    "    return a1_f + term0(t,a2_f,a6_f) + term1(t,a2_f,a5_f,a6_f) * (term3(t,t0,sigma) - term4(t,t0,alpha,sigma)* term5(t,t0,alpha,sigma))"
   ]
  },
  {
   "cell_type": "code",
   "execution_count": 17,
   "metadata": {
    "ExecuteTime": {
     "end_time": "2018-10-09T15:31:07.485299Z",
     "start_time": "2018-10-09T15:31:07.475377Z"
    },
    "collapsed": true
   },
   "outputs": [],
   "source": [
    "def AdvancedBraggEdegFittingFourthStep(t,a1,a2,a5,a6):\n",
    "    return a1 + term0(t,a2,a6) + term1(t,a2,a5,a6) * (term3(t,t0_f,sigma_f) - term4(t,t0_f,alpha_f,sigma_f)* term5(t,t0_f,alpha_f,sigma_f))"
   ]
  },
  {
   "cell_type": "code",
   "execution_count": 18,
   "metadata": {
    "ExecuteTime": {
     "end_time": "2018-10-09T15:31:07.489813Z",
     "start_time": "2018-10-09T15:31:07.486467Z"
    },
    "collapsed": true
   },
   "outputs": [],
   "source": [
    "def AdvancedBraggEdegFittingFifthStep(t,t0,sigma,alpha): #this is just the same as the third\n",
    "    return a1_f + term0(t,a2_f,a6_f) + term1(t,a2_f,a5_f,a6_f) * (term3(t,t0,sigma) - term4(t,t0,alpha,sigma)* term5(t,t0,alpha,sigma))"
   ]
  },
  {
   "cell_type": "code",
   "execution_count": 19,
   "metadata": {
    "ExecuteTime": {
     "end_time": "2018-10-09T15:31:07.499701Z",
     "start_time": "2018-10-09T15:31:07.492718Z"
    },
    "collapsed": true
   },
   "outputs": [],
   "source": [
    "def AdvancedBraggEdegFittingAll(t,t0,sigma,alpha,a1,a2,a5,a6):\n",
    "    return a1 + term0(t,a2,a6) + term1(t,a2,a5,a6) * (term3(t,t0,sigma) - term4(t,t0,alpha,sigma)* term5(t,t0,alpha,sigma))"
   ]
  },
  {
   "cell_type": "code",
   "execution_count": 20,
   "metadata": {
    "ExecuteTime": {
     "end_time": "2018-10-09T15:31:07.511081Z",
     "start_time": "2018-10-09T15:31:07.501739Z"
    },
    "collapsed": false
   },
   "outputs": [],
   "source": [
    "#first guess of paramters\n",
    "t0_f=30\n",
    "a2_f=slope_before\n",
    "a5_f=slope_after\n",
    "a6_f=t0_f-(2*mybragg[45]/(a5_f-a2_f)) # I assume edge intensity is equal to 1 as I am normalizing\n",
    "a1_f=interception_before+a2_f*a6_f\n",
    "sigma_f=-1.0\n",
    "alpha_f=-1.0\n"
   ]
  },
  {
   "cell_type": "code",
   "execution_count": 21,
   "metadata": {
    "ExecuteTime": {
     "end_time": "2018-10-09T15:31:07.518251Z",
     "start_time": "2018-10-09T15:31:07.512404Z"
    },
    "collapsed": true
   },
   "outputs": [],
   "source": [
    "gmodel1 = Model(AdvancedBraggEdgeFittingFirstStep)\n",
    "gmodel2=Model(AdvancedBraggEdgeFittingSecondStep)\n",
    "gmodel3=Model(AdvancedBraggEdegFittingThirdStep)\n",
    "gmodel4=Model(AdvancedBraggEdegFittingFourthStep)\n",
    "gmodel5=Model(AdvancedBraggEdegFittingFifthStep)\n",
    "gmodel6=Model(AdvancedBraggEdegFittingAll)"
   ]
  },
  {
   "cell_type": "code",
   "execution_count": 22,
   "metadata": {
    "ExecuteTime": {
     "end_time": "2018-10-09T15:31:07.658911Z",
     "start_time": "2018-10-09T15:31:07.519491Z"
    },
    "collapsed": false
   },
   "outputs": [
    {
     "name": "stdout",
     "output_type": "stream",
     "text": [
      "[[Model]]\n",
      "    Model(AdvancedBraggEdgeFittingFirstStep)\n",
      "[[Fit Statistics]]\n",
      "    # fitting method   = leastsq\n",
      "    # function evals   = 8\n",
      "    # data points      = 93\n",
      "    # variables        = 2\n",
      "    chi-square         = 2.11592\n",
      "    reduced chi-square = 0.02325\n",
      "    Akaike info crit   = -347.82904\n",
      "    Bayesian info crit = -342.76384\n",
      "[[Variables]]\n",
      "    a1:  -0.37182546 +/- 0.055685 (14.98%) (init= 1.819399)\n",
      "    a6:   202.281623 +/- 11.95312 (5.91%) (init=-301.8575)\n",
      "[[Correlations]] (unreported correlations are <  0.100)\n",
      "    C(a1, a6)                    = -0.959\n",
      "\n"
     ]
    },
    {
     "data": {
      "image/png": "[encoded data removed]",
      "text/plain": [
       "<matplotlib.figure.Figure at 0x7f1c7bd51e10>"
      ]
     },
     "metadata": {},
     "output_type": "display_data"
    }
   ],
   "source": [
    "result1 = gmodel1.fit(mybragg, t=t,a1=a1_f, a6=a6_f) \n",
    "\n",
    "# AdvancedBraggEdgeFitting(t,t0,alpha,sigma,a1,a2,a5,a6):\n",
    "\n",
    "\n",
    "print(result1.fit_report())\n",
    "plt.figure\n",
    "plt.plot(t, mybragg, 'b-')\n",
    "plt.plot(t, result1.init_fit, 'k--')\n",
    "plt.plot(t, result1.best_fit, 'r-')\n",
    "plt.show()"
   ]
  },
  {
   "cell_type": "code",
   "execution_count": 23,
   "metadata": {
    "ExecuteTime": {
     "end_time": "2018-10-09T15:31:07.800296Z",
     "start_time": "2018-10-09T15:31:07.660376Z"
    },
    "collapsed": false
   },
   "outputs": [
    {
     "name": "stdout",
     "output_type": "stream",
     "text": [
      "[[Model]]\n",
      "    Model(AdvancedBraggEdgeFittingSecondStep)\n",
      "[[Fit Statistics]]\n",
      "    # fitting method   = leastsq\n",
      "    # function evals   = 8\n",
      "    # data points      = 93\n",
      "    # variables        = 2\n",
      "    chi-square         = 2.09867\n",
      "    reduced chi-square = 0.02306\n",
      "    Akaike info crit   = -348.59069\n",
      "    Bayesian info crit = -343.52549\n",
      "[[Variables]]\n",
      "    a2:  -0.00527952 +/- 0.000135 (2.57%) (init=-0.005396143)\n",
      "    a5:  -0.00251560 +/- 0.000149 (5.95%) (init=-0.002500079)\n",
      "\n"
     ]
    },
    {
     "data": {
      "image/png": "[encoded data removed]",
      "text/plain": [
       "<matplotlib.figure.Figure at 0x7f1c7bd3b090>"
      ]
     },
     "metadata": {},
     "output_type": "display_data"
    }
   ],
   "source": [
    "a1_f=result1.best_values.get('a1')\n",
    "a6_f=result1.best_values.get('a6')\n",
    "\n",
    "result2=gmodel2.fit(mybragg,t=t, a2=a2_f,a5=a5_f)\n",
    "print(result2.fit_report())\n",
    "plt.figure\n",
    "plt.plot(t, mybragg, 'b-')\n",
    "plt.plot(t, result2.init_fit, 'k--')\n",
    "plt.plot(t, result2.best_fit, 'r-')\n",
    "plt.show()\n"
   ]
  },
  {
   "cell_type": "code",
   "execution_count": 24,
   "metadata": {
    "ExecuteTime": {
     "end_time": "2018-10-09T15:31:07.937613Z",
     "start_time": "2018-10-09T15:31:07.801426Z"
    },
    "collapsed": false
   },
   "outputs": [
    {
     "name": "stdout",
     "output_type": "stream",
     "text": [
      "[[Model]]\n",
      "    Model(AdvancedBraggEdegFittingThirdStep)\n",
      "[[Fit Statistics]]\n",
      "    # fitting method   = leastsq\n",
      "    # function evals   = 124\n",
      "    # data points      = 93\n",
      "    # variables        = 3\n",
      "    chi-square         = 0.46563\n",
      "    reduced chi-square = 0.00517\n",
      "    Akaike info crit   = -486.61774\n",
      "    Bayesian info crit = -479.01994\n",
      "[[Variables]]\n",
      "    t0:      36.6366190 +/- 5.07e+05 (1385082.28%) (init= 30)\n",
      "    sigma:  -0.18026202 +/- 2.48e+05 (137370745.51%) (init=-1)\n",
      "    alpha:  -0.07828902 +/- 1.36e+05 (173247986.55%) (init=-1)\n",
      "[[Correlations]] (unreported correlations are <  0.100)\n",
      "    C(t0, sigma)                 =  1.000\n",
      "    C(t0, alpha)                 = -1.000\n",
      "    C(sigma, alpha)              = -1.000\n",
      "\n"
     ]
    },
    {
     "name": "stderr",
     "output_type": "stream",
     "text": [
      "/home/carminati_c/anaconda2/lib/python2.7/site-packages/ipykernel/__main__.py:2: RuntimeWarning: overflow encountered in exp\n",
      "  from ipykernel import kernelapp as app\n",
      "/home/carminati_c/anaconda2/lib/python2.7/site-packages/ipykernel/__main__.py:2: RuntimeWarning: invalid value encountered in multiply\n",
      "  from ipykernel import kernelapp as app\n"
     ]
    },
    {
     "data": {
      "image/png": "[encoded data removed]",
      "text/plain": [
       "<matplotlib.figure.Figure at 0x7f1c76433f10>"
      ]
     },
     "metadata": {},
     "output_type": "display_data"
    }
   ],
   "source": [
    "a2_f = result2.best_values.get('a2')\n",
    "a5_f = result2.best_values.get('a5')\n",
    "\n",
    "result3 = gmodel3.fit(mybragg,t=t,t0=t0_f,sigma=sigma_f, alpha=alpha_f, nan_policy='propagate')\n",
    "\n",
    "print(result3.fit_report())\n",
    "plt.figure\n",
    "plt.plot(t, mybragg, 'b-')\n",
    "plt.plot(t, result3.init_fit, 'k--')\n",
    "plt.plot(t, result3.best_fit, 'r-')\n",
    "plt.show()"
   ]
  },
  {
   "cell_type": "code",
   "execution_count": 25,
   "metadata": {
    "ExecuteTime": {
     "end_time": "2018-10-09T15:31:08.106691Z",
     "start_time": "2018-10-09T15:31:07.939032Z"
    },
    "collapsed": false
   },
   "outputs": [
    {
     "name": "stderr",
     "output_type": "stream",
     "text": [
      "/home/carminati_c/anaconda2/lib/python2.7/site-packages/ipykernel/__main__.py:2: RuntimeWarning: overflow encountered in exp\n",
      "  from ipykernel import kernelapp as app\n",
      "/home/carminati_c/anaconda2/lib/python2.7/site-packages/ipykernel/__main__.py:2: RuntimeWarning: invalid value encountered in multiply\n",
      "  from ipykernel import kernelapp as app\n"
     ]
    },
    {
     "name": "stdout",
     "output_type": "stream",
     "text": [
      "[[Model]]\n",
      "    Model(AdvancedBraggEdegFittingFourthStep)\n",
      "[[Fit Statistics]]\n",
      "    # fitting method   = leastsq\n",
      "    # function evals   = 7\n",
      "    # data points      = 93\n",
      "    # variables        = 4\n",
      "    chi-square         = nan\n",
      "    reduced chi-square = nan\n",
      "    Akaike info crit   = nan\n",
      "    Bayesian info crit = nan\n",
      "[[Variables]]\n",
      "    a1:  -0.37182546 +/- 0        (0.00%) (init=-0.3718255)\n",
      "    a2:  -0.00527952 +/- 0        (0.00%) (init=-0.005279528)\n",
      "    a5:  -0.00251560 +/- 0        (0.00%) (init=-0.002515602)\n",
      "    a6:   202.281626 +/- 0        (0.00%) (init= 202.2816)\n",
      "\n"
     ]
    },
    {
     "data": {
      "image/png": "[encoded data removed]",
      "text/plain": [
       "<matplotlib.figure.Figure at 0x7f1c76428550>"
      ]
     },
     "metadata": {},
     "output_type": "display_data"
    }
   ],
   "source": [
    "t0_f=result3.best_values.get('t0')\n",
    "sigma_f=result3.best_values.get('sigma')\n",
    "alpha_f=result3.best_values.get('alpha')\n",
    "\n",
    "result4 = gmodel4.fit(mybragg, t=t, a1=a1_f, a2=a2_f, a5=a5_f, a6=a6_f,nan_policy='propagate')\n",
    "\n",
    "print(result4.fit_report())\n",
    "plt.figure\n",
    "plt.plot(t, mybragg, 'b-')\n",
    "plt.plot(t, result4.init_fit, 'k--')\n",
    "plt.plot(t, result4.best_fit, 'r-')\n",
    "plt.show()"
   ]
  },
  {
   "cell_type": "code",
   "execution_count": 26,
   "metadata": {
    "ExecuteTime": {
     "end_time": "2018-10-09T15:31:08.267566Z",
     "start_time": "2018-10-09T15:31:08.108240Z"
    },
    "collapsed": false
   },
   "outputs": [
    {
     "name": "stderr",
     "output_type": "stream",
     "text": [
      "/home/carminati_c/anaconda2/lib/python2.7/site-packages/ipykernel/__main__.py:2: RuntimeWarning: overflow encountered in exp\n",
      "  from ipykernel import kernelapp as app\n",
      "/home/carminati_c/anaconda2/lib/python2.7/site-packages/ipykernel/__main__.py:2: RuntimeWarning: invalid value encountered in multiply\n",
      "  from ipykernel import kernelapp as app\n"
     ]
    },
    {
     "name": "stdout",
     "output_type": "stream",
     "text": [
      "[[Model]]\n",
      "    Model(AdvancedBraggEdegFittingFifthStep)\n",
      "[[Fit Statistics]]\n",
      "    # fitting method   = leastsq\n",
      "    # function evals   = 6\n",
      "    # data points      = 93\n",
      "    # variables        = 3\n",
      "    chi-square         = nan\n",
      "    reduced chi-square = nan\n",
      "    Akaike info crit   = nan\n",
      "    Bayesian info crit = nan\n",
      "[[Variables]]\n",
      "    t0:      36.6366190 +/- 0        (0.00%) (init= 36.63662)\n",
      "    sigma:  -0.18026202 +/- 0        (0.00%) (init=-0.180262)\n",
      "    alpha:  -0.07828902 +/- 0        (0.00%) (init=-0.07828902)\n",
      "\n"
     ]
    },
    {
     "data": {
      "image/png": "[encoded data removed]",
      "text/plain": [
       "<matplotlib.figure.Figure at 0x7f1c76428c50>"
      ]
     },
     "metadata": {},
     "output_type": "display_data"
    }
   ],
   "source": [
    "a1_f =result4.best_values.get('a1')\n",
    "a2_f = result4.best_values.get('a2')\n",
    "a5_f = result4.best_values.get('a5')\n",
    "a6_f = result4.best_values.get('a6')\n",
    "\n",
    "result5=gmodel5.fit(mybragg,t=t, t0=t0_f,sigma=sigma_f, alpha=alpha_f, nan_policy='propagate')\n",
    "\n",
    "print(result5.fit_report())\n",
    "plt.figure\n",
    "plt.plot(t, mybragg, 'b-')\n",
    "plt.plot(t, result5.init_fit, 'k--')\n",
    "plt.plot(t, result5.best_fit, 'r-')\n",
    "plt.show()"
   ]
  },
  {
   "cell_type": "code",
   "execution_count": 27,
   "metadata": {
    "ExecuteTime": {
     "end_time": "2018-10-09T15:31:08.432995Z",
     "start_time": "2018-10-09T15:31:08.269070Z"
    },
    "collapsed": false
   },
   "outputs": [
    {
     "name": "stderr",
     "output_type": "stream",
     "text": [
      "/home/carminati_c/anaconda2/lib/python2.7/site-packages/ipykernel/__main__.py:2: RuntimeWarning: overflow encountered in exp\n",
      "  from ipykernel import kernelapp as app\n",
      "/home/carminati_c/anaconda2/lib/python2.7/site-packages/ipykernel/__main__.py:2: RuntimeWarning: invalid value encountered in multiply\n",
      "  from ipykernel import kernelapp as app\n"
     ]
    },
    {
     "name": "stdout",
     "output_type": "stream",
     "text": [
      "[[Model]]\n",
      "    Model(AdvancedBraggEdegFittingAll)\n",
      "[[Fit Statistics]]\n",
      "    # fitting method   = leastsq\n",
      "    # function evals   = 10\n",
      "    # data points      = 93\n",
      "    # variables        = 7\n",
      "    chi-square         = nan\n",
      "    reduced chi-square = nan\n",
      "    Akaike info crit   = nan\n",
      "    Bayesian info crit = nan\n",
      "[[Variables]]\n",
      "    t0:      36.6366190 +/- 0        (0.00%) (init= 36.63662)\n",
      "    sigma:  -0.18026202 +/- 0        (0.00%) (init=-0.180262)\n",
      "    alpha:  -0.07828902 +/- 0        (0.00%) (init=-0.07828902)\n",
      "    a1:     -0.37182546 +/- 0        (0.00%) (init=-0.3718255)\n",
      "    a2:     -0.00527952 +/- 0        (0.00%) (init=-0.005279528)\n",
      "    a5:     -0.00251560 +/- 0        (0.00%) (init=-0.002515602)\n",
      "    a6:      202.281629 +/- 0        (0.00%) (init= 202.2816)\n",
      "\n"
     ]
    },
    {
     "data": {
      "image/png": "[encoded data removed]",
      "text/plain": [
       "<matplotlib.figure.Figure at 0x7f1c762af110>"
      ]
     },
     "metadata": {},
     "output_type": "display_data"
    }
   ],
   "source": [
    "t0_f=result5.best_values.get('t0')\n",
    "sigma_f=result5.best_values.get('sigma')\n",
    "alpha_f=result5.best_values.get('alpha')\n",
    "\n",
    "\n",
    "result6=gmodel6.fit(mybragg,t=t, t0=t0_f,sigma=sigma_f, alpha=alpha_f, a1=a1_f, a2=a2_f, a5=a5_f, a6=a6_f, nan_policy='propagate')\n",
    "\n",
    "print(result6.fit_report())\n",
    "plt.figure\n",
    "plt.plot(t, mybragg, 'b-')\n",
    "plt.plot(t, result6.init_fit, 'k--')\n",
    "plt.plot(t, result6.best_fit, 'r-')\n",
    "plt.show()\n"
   ]
  },
  {
   "cell_type": "code",
   "execution_count": null,
   "metadata": {
    "collapsed": true
   },
   "outputs": [],
   "source": []
  }
 ],
 "metadata": {
  "kernelspec": {
   "display_name": "Python 2",
   "language": "python",
   "name": "python2"
  },
  "language_info": {
   "codemirror_mode": {
    "name": "ipython",
    "version": 2
   },
   "file_extension": ".py",
   "mimetype": "text/x-python",
   "name": "python",
   "nbconvert_exporter": "python",
   "pygments_lexer": "ipython2",
   "version": "2.7.12"
  },
  "varInspector": {
   "cols": {
    "lenName": 16,
    "lenType": 16,
    "lenVar": 40
   },
   "kernels_config": {
    "python": {
     "delete_cmd_postfix": "",
     "delete_cmd_prefix": "del ",
     "library": "var_list.py",
     "varRefreshCmd": "print(var_dic_list())"
    },
    "r": {
     "delete_cmd_postfix": ") ",
     "delete_cmd_prefix": "rm(",
     "library": "var_list.r",
     "varRefreshCmd": "cat(var_dic_list()) "
    }
   },
   "position": {
    "height": "959px",
    "left": "1884.5px",
    "right": "-67px",
    "top": "106px",
    "width": "800px"
   },
   "types_to_exclude": [
    "module",
    "function",
    "builtin_function_or_method",
    "instance",
    "_Feature"
   ],
   "window_display": true
  }
 },
 "nbformat": 4,
 "nbformat_minor": 2
}
