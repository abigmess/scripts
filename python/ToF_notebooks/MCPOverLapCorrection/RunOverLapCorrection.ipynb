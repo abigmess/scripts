{
 "cells": [
  {
   "cell_type": "markdown",
   "metadata": {},
   "source": [
    "# In this notebook I write a loop that correct for detector overhead all folders in a certain path\n",
    "\n",
    "The routine for MCPOverLapCorrection is called"
   ]
  },
  {
   "cell_type": "code",
   "execution_count": 7,
   "metadata": {
    "ExecuteTime": {
     "end_time": "2019-01-24T11:22:42.077563Z",
     "start_time": "2019-01-24T11:22:42.070672Z"
    },
    "collapsed": false
   },
   "outputs": [],
   "source": [
    "import glob,sys,os\n",
    "import pandas as pd\n",
    "import matplotlib.pyplot as plt\n",
    "from IPython.display import display, HTML\n",
    "import numpy as np\n",
    "%matplotlib inline\n",
    "from astropy.io import fits\n",
    "import MCPOverLapCorrection\n",
    "#import pdb\n"
   ]
  },
  {
   "cell_type": "code",
   "execution_count": 8,
   "metadata": {
    "ExecuteTime": {
     "end_time": "2019-01-24T11:22:44.194033Z",
     "start_time": "2019-01-24T11:22:44.181032Z"
    },
    "collapsed": false
   },
   "outputs": [
    {
     "data": {
      "text/plain": [
       "['Flat2',\n",
       " 'Flat3',\n",
       " 'Sample_10090deg',\n",
       " 'Sample_10099deg',\n",
       " 'Sample_10108deg',\n",
       " 'Sample_10108deg_Corrected',\n",
       " 'Sample_10126deg',\n",
       " 'Sample_10126deg_Corrected',\n",
       " 'Sample_10144deg',\n",
       " 'Sample_10144deg_Corrected',\n",
       " 'Sample_10153deg',\n",
       " 'Sample_10153deg_Corrected',\n",
       " 'Sample_10162deg',\n",
       " 'Sample_10162deg_Corrected',\n",
       " 'Sample_10171deg',\n",
       " 'Sample_10171deg_Corrected',\n",
       " 'Sample_10180deg',\n",
       " 'Sample_10180deg_Corrected']"
      ]
     },
     "metadata": {},
     "output_type": "display_data"
    }
   ],
   "source": [
    "path_folders = \"/media/carminati_c/Elements/RB1820231/04_HorizontalSetting_3hruns/1st run/\"\n",
    "list_folders = sorted(os.listdir(path_folders))\n",
    "display(list_folders)\n",
    "# print(list_folders)\n",
    "# print(len(list_folders))"
   ]
  },
  {
   "cell_type": "code",
   "execution_count": 9,
   "metadata": {
    "ExecuteTime": {
     "end_time": "2019-01-24T11:22:54.026095Z",
     "start_time": "2019-01-24T11:22:54.021457Z"
    },
    "collapsed": false
   },
   "outputs": [
    {
     "data": {
      "text/plain": [
       "['Flat2_Corrected',\n",
       " 'Flat3_Corrected',\n",
       " 'Sample_10090deg_Corrected',\n",
       " 'Sample_10099deg_Corrected',\n",
       " 'Sample_10108deg_Corrected',\n",
       " 'Sample_10108deg_Corrected_Corrected',\n",
       " 'Sample_10126deg_Corrected',\n",
       " 'Sample_10126deg_Corrected_Corrected',\n",
       " 'Sample_10144deg_Corrected',\n",
       " 'Sample_10144deg_Corrected_Corrected',\n",
       " 'Sample_10153deg_Corrected',\n",
       " 'Sample_10153deg_Corrected_Corrected',\n",
       " 'Sample_10162deg_Corrected',\n",
       " 'Sample_10162deg_Corrected_Corrected',\n",
       " 'Sample_10171deg_Corrected',\n",
       " 'Sample_10171deg_Corrected_Corrected',\n",
       " 'Sample_10180deg_Corrected',\n",
       " 'Sample_10180deg_Corrected_Corrected']"
      ]
     },
     "metadata": {},
     "output_type": "display_data"
    }
   ],
   "source": [
    "#create standard name for outputfolders\n",
    "list_output_folders=[]\n",
    "for i in range(0,len(list_folders)):\n",
    "    list_output_folders.append(list_folders[i]+\"_Corrected\")\n",
    "\n",
    "display(list_output_folders)\n",
    "# display(list_output_folders[1])"
   ]
  },
  {
   "cell_type": "code",
   "execution_count": null,
   "metadata": {
    "ExecuteTime": {
     "start_time": "2019-01-24T10:23:17.231Z"
    },
    "collapsed": false
   },
   "outputs": [
    {
     "data": {
      "text/plain": [
       "'/media/carminati_c/Elements/RB1820231/04_HorizontalSetting_3hruns/1st run/Flat2'"
      ]
     },
     "metadata": {},
     "output_type": "display_data"
    },
    {
     "data": {
      "text/plain": [
       "'/media/carminati_c/Elements/RB1820231/04_HorizontalSetting_3hruns/1st run/Flat2_Corrected'"
      ]
     },
     "metadata": {},
     "output_type": "display_data"
    },
    {
     "name": "stdout",
     "output_type": "stream",
     "text": [
      "0.014\n",
      "0.0206848\n",
      "0.00031648\n",
      "0.0116736\n",
      "0.00032896\n",
      "0.0186778\n",
      "0.0003248\n",
      "0.0190054\n"
     ]
    },
    {
     "data": {
      "image/png": "[encoded data removed]",
      "text/plain": [
       "<matplotlib.figure.Figure at 0x7f3d90699e90>"
      ]
     },
     "metadata": {},
     "output_type": "display_data"
    },
    {
     "name": "stdout",
     "output_type": "stream",
     "text": [
      "(<type 'tuple'>, 2)\n",
      "100784\n",
      "(<type 'tuple'>, 2)\n",
      "98226\n",
      "(<type 'tuple'>, 2)\n",
      "96336\n"
     ]
    }
   ],
   "source": [
    "#Running in loop over all given folders\n",
    "\n",
    "num_windows=4\n",
    "\n",
    "for i in range(0, len(list_folders)):\n",
    "# for i in range(0, 4):    \n",
    "    folder_input = path_folders+list_folders[i]\n",
    "    folder_output = path_folders+list_output_folders[i]\n",
    "    filename_output = \"/\"+list_output_folders[i]+\"_\"\n",
    "    display(folder_input)\n",
    "    display(folder_output)\n",
    "#     display(filename_output)\n",
    "    MCPOverLapCorrection.OverLapCorrection(folder_input, folder_output, filename_output, num_windows)\n"
   ]
  },
  {
   "cell_type": "code",
   "execution_count": null,
   "metadata": {
    "ExecuteTime": {
     "end_time": "2019-01-24T10:49:23.482450Z",
     "start_time": "2019-01-24T10:48:00.655662Z"
    },
    "collapsed": false,
    "scrolled": false
   },
   "outputs": [],
   "source": [
    "#Example how to run on single folder\n",
    "\n",
    "# folder_input = \"/media/carminati_c/Elements/RB1820231/03_VerticalSetting_3hruns/Flat1\"\n",
    "# folder_output = \"/media/carminati_c/Elements/RB1820231/03_VerticalSetting_3hruns/Flat1_retry_new\"\n",
    "# filename_output =  \"/Flat1_Corrected_\"\n",
    "# num_windows=4\n",
    "# MCPOverLapCorrection.OverLapCorrection(folder_input, folder_output, filename_output, num_windows)"
   ]
  },
  {
   "cell_type": "code",
   "execution_count": null,
   "metadata": {
    "collapsed": true
   },
   "outputs": [],
   "source": []
  }
 ],
 "metadata": {
  "kernelspec": {
   "display_name": "Python 2",
   "language": "python",
   "name": "python2"
  },
  "language_info": {
   "codemirror_mode": {
    "name": "ipython",
    "version": 2
   },
   "file_extension": ".py",
   "mimetype": "text/x-python",
   "name": "python",
   "nbconvert_exporter": "python",
   "pygments_lexer": "ipython2",
   "version": "2.7.12"
  },
  "varInspector": {
   "cols": {
    "lenName": 16,
    "lenType": 16,
    "lenVar": 40
   },
   "kernels_config": {
    "python": {
     "delete_cmd_postfix": "",
     "delete_cmd_prefix": "del ",
     "library": "var_list.py",
     "varRefreshCmd": "print(var_dic_list())"
    },
    "r": {
     "delete_cmd_postfix": ") ",
     "delete_cmd_prefix": "rm(",
     "library": "var_list.r",
     "varRefreshCmd": "cat(var_dic_list()) "
    }
   },
   "types_to_exclude": [
    "module",
    "function",
    "builtin_function_or_method",
    "instance",
    "_Feature"
   ],
   "window_display": false
  }
 },
 "nbformat": 4,
 "nbformat_minor": 2
}
