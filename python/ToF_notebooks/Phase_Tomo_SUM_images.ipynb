{
 "cells": [
  {
   "cell_type": "markdown",
   "metadata": {},
   "source": [
    "# In this notebook I read and sum images to be used for phase tomography. "
   ]
  },
  {
   "cell_type": "markdown",
   "metadata": {},
   "source": [
    "## The noteboook was started to process data of the Fe sample imaged at RADEN"
   ]
  },
  {
   "cell_type": "code",
   "execution_count": 2,
   "metadata": {
    "ExecuteTime": {
     "end_time": "2018-10-10T10:17:32.818539Z",
     "start_time": "2018-10-10T10:17:32.812537Z"
    },
    "collapsed": false
   },
   "outputs": [],
   "source": [
    "import skimage\n",
    "import os, fnmatch\n",
    "import numpy as np\n",
    "import matplotlib.pyplot as plt\n",
    "%matplotlib inline\n",
    "# %matplotlib notebook\n",
    "import pylab\n",
    "import scipy\n",
    "from skimage import io\n",
    "from os import listdir\n",
    "from astropy.io import fits"
   ]
  },
  {
   "cell_type": "code",
   "execution_count": null,
   "metadata": {
    "ExecuteTime": {
     "end_time": "2018-07-13T18:14:55.612127Z",
     "start_time": "2018-07-13T18:14:55.609517Z"
    },
    "collapsed": true
   },
   "outputs": [],
   "source": [
    "## here you defined the ranges of images that will be used for the summing, with my calib:\n",
    "# alpha=[497,524]\n",
    "# gamma=[532,550]\n",
    "# ref=[575,619]"
   ]
  },
  {
   "cell_type": "code",
   "execution_count": null,
   "metadata": {
    "ExecuteTime": {
     "end_time": "2018-07-16T11:33:37.848469Z",
     "start_time": "2018-07-16T11:33:37.845938Z"
    },
    "collapsed": true
   },
   "outputs": [],
   "source": [
    "#without calib:\n",
    "alpha=[521,550]\n",
    "gamma=[561,579]\n",
    "ref=[603,649]"
   ]
  },
  {
   "cell_type": "code",
   "execution_count": null,
   "metadata": {
    "ExecuteTime": {
     "end_time": "2018-07-16T11:34:06.584205Z",
     "start_time": "2018-07-16T11:34:06.581125Z"
    },
    "collapsed": true
   },
   "outputs": [],
   "source": [
    "save_path = '/data/data2/07_TomoA_ARMCO/Summed_Imgs_noCalib/'"
   ]
  },
  {
   "cell_type": "code",
   "execution_count": null,
   "metadata": {
    "ExecuteTime": {
     "end_time": "2018-07-16T11:34:08.159006Z",
     "start_time": "2018-07-16T11:34:08.156334Z"
    },
    "collapsed": false
   },
   "outputs": [],
   "source": [
    "coll_dir = fnmatch.filter(listdir('/data/data2/07_TomoA_ARMCO/'),'TEST*')"
   ]
  },
  {
   "cell_type": "code",
   "execution_count": null,
   "metadata": {
    "ExecuteTime": {
     "end_time": "2018-07-16T11:40:32.912092Z",
     "start_time": "2018-07-16T11:34:10.122763Z"
    },
    "collapsed": false
   },
   "outputs": [],
   "source": [
    "for i in range(0, len(coll_dir)-1):\n",
    "    path= '/data/data2/07_TomoA_ARMCO/'+coll_dir[i]+'/Corrected/'\n",
    "    print(path)\n",
    "\n",
    "    summed_alpha = np.zeros([512,512], dtype='>f4')\n",
    "    summed_ref = np.zeros([512,512], dtype='>f4') ## with data.dtype I checked what was the type of the read images\n",
    "    \n",
    "    for x in range(alpha[0], alpha[1]+1):\n",
    "        name=path+coll[x]\n",
    "        i = fits.open(name)\n",
    "        data = i[0].data\n",
    "        summed_alpha += data\n",
    "    \n",
    "    io.imsave(save_path+'summed_alpha'+coll[0][4:9]+'.tiff', summed_alpha)\n",
    "    \n",
    "    for x in range(gamma[0], gamma[1]+1):\n",
    "        name=path+coll[x]\n",
    "        i = fits.open(name)\n",
    "        data = i[0].data\n",
    "        summed_gamma += data\n",
    "    \n",
    "    io.imsave(save_path+'summed_gamma'+coll[0][4:9]+'.tiff', summed_gamma)\n",
    "    \n",
    "    for x in range(ref[0], ref[1]+1):\n",
    "        name=path+coll[x]\n",
    "        i = fits.open(name)\n",
    "        data = i[0].data\n",
    "        summed_ref += data\n",
    "    \n",
    "    io.imsave(save_path+'summed_ref'+coll[0][4:9]+'.tiff', summed_ref)\n",
    "   \n"
   ]
  }
 ],
 "metadata": {
  "kernelspec": {
   "display_name": "Python 2",
   "language": "python",
   "name": "python2"
  },
  "language_info": {
   "codemirror_mode": {
    "name": "ipython",
    "version": 2
   },
   "file_extension": ".py",
   "mimetype": "text/x-python",
   "name": "python",
   "nbconvert_exporter": "python",
   "pygments_lexer": "ipython2",
   "version": "2.7.12"
  },
  "varInspector": {
   "cols": {
    "lenName": 16,
    "lenType": 16,
    "lenVar": 40
   },
   "kernels_config": {
    "python": {
     "delete_cmd_postfix": "",
     "delete_cmd_prefix": "del ",
     "library": "var_list.py",
     "varRefreshCmd": "print(var_dic_list())"
    },
    "r": {
     "delete_cmd_postfix": ") ",
     "delete_cmd_prefix": "rm(",
     "library": "var_list.r",
     "varRefreshCmd": "cat(var_dic_list()) "
    }
   },
   "position": {
    "height": "843px",
    "left": "2192px",
    "right": "127.167px",
    "top": "202px",
    "width": "800px"
   },
   "types_to_exclude": [
    "module",
    "function",
    "builtin_function_or_method",
    "instance",
    "_Feature"
   ],
   "window_display": true
  }
 },
 "nbformat": 4,
 "nbformat_minor": 2
}
